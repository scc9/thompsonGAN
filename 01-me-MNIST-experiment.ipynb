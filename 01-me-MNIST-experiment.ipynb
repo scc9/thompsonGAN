{
 "cells": [
  {
   "cell_type": "markdown",
   "metadata": {},
   "source": [
    "## Thompson GAN experiment on MNIST 0vs1 (only zeros and ones) \n",
    "\n",
    "We don't care about tuning our GAN for now and just rip everything from the tf DC-GAN tutorial.\n",
    "https://www.tensorflow.org/tutorials/generative/dcgan\n"
   ]
  },
  {
   "cell_type": "code",
   "execution_count": 1,
   "metadata": {},
   "outputs": [],
   "source": [
    "import glob\n",
    "#import imageio\n",
    "import matplotlib.pyplot as plt\n",
    "import numpy as np\n",
    "import os\n",
    "#import PIL\n",
    "import tensorflow as tf\n",
    "from tensorflow.keras import layers\n",
    "import time\n",
    "from scipy.stats import beta\n",
    "#from IPython import displaydd"
   ]
  },
  {
   "cell_type": "markdown",
   "metadata": {},
   "source": [
    "## Here we have all the Thompson sampling magic.\n",
    "\n",
    "* self.stats - We store the outcome statistics in stats, (number of correct fake/real classifications per discriminator)\n",
    "* self.n_cluster - Just the number of discriminators we use\n",
    "* self.X - all the dataz aka all the samples\n",
    "\n",
    "\n",
    "Note that we sample from a beta distribution since it is the conjugate prior to the bernoulli distribution (probability of beeing right or wrong)\n",
    "https://davidrosenberg.github.io/mlcourse/in-prep/thompson-sampling-bernoulli.pdf \n",
    "\n",
    "Also note that each *sample* has its own beta distribution! This is because whe make an *allocation decision* for each sample\n",
    "\n",
    "\n",
    "Basically this object holds the data, keeps track of the fake/real classification statisics and finally does the sampling and assignment of samples at the start of each epoch."
   ]
  },
  {
   "cell_type": "code",
   "execution_count": 2,
   "metadata": {},
   "outputs": [],
   "source": [
    "class DataHolder(object):\n",
    "    \n",
    "    def __init__(self,n_clusters,X):\n",
    "        #sucess index = 0\n",
    "        self.X = X\n",
    "        self.n_clusters = n_clusters\n",
    "        self.stats = np.ones((len(X),n_clusters,2),dtype = int)\n",
    "    \n",
    "    def update(self,sample_index,cluster_index,outcome):\n",
    "        self.stats[sample_index,cluster_index,outcome]+=1\n",
    "    \n",
    "    def assign(self):\n",
    "        assignment=[]\n",
    "        for sample in self.stats:\n",
    "            assignment.append(np.argmax([beta.rvs(*component) for component in sample]))\n",
    "        \n",
    "        assignment = np.asarray(assignment)\n",
    "        assignment_indices = [np.where(assignment == k)[0] for k in range(self.n_clusters)]\n",
    "        assignment_data  = [self.X[indices] for indices in assignment_indices]\n",
    "        return assignment_indices,assignment_data"
   ]
  },
  {
   "cell_type": "markdown",
   "metadata": {},
   "source": [
    "## The rest of this is just the standard GAN yoga but with multiple (2) discriminators.\n",
    "Compare to 00-me-MNIST-experiment.ipynb for the standard GAN"
   ]
  },
  {
   "cell_type": "code",
   "execution_count": 3,
   "metadata": {},
   "outputs": [
    {
     "data": {
      "image/png": "[encoded data removed]",
      "text/plain": [
       "<Figure size 432x288 with 1 Axes>"
      ]
     },
     "metadata": {
      "needs_background": "light"
     },
     "output_type": "display_data"
    }
   ],
   "source": [
    "(train_images, train_labels), (_, _) = tf.keras.datasets.mnist.load_data()\n",
    "plt.imshow(train_images[0],cmap = 'gray')\n",
    "plt.show()"
   ]
  },
  {
   "cell_type": "code",
   "execution_count": 4,
   "metadata": {},
   "outputs": [],
   "source": [
    "train_images = train_images.reshape(train_images.shape[0], 28, 28, 1).astype('float32')\n",
    "train_images = (train_images - 127.5) / 127.5 # Normalize the images to [-1, 1]"
   ]
  },
  {
   "cell_type": "code",
   "execution_count": 5,
   "metadata": {},
   "outputs": [],
   "source": [
    "BUFFER_SIZE = 60000\n",
    "BATCH_SIZE = 128"
   ]
  },
  {
   "cell_type": "code",
   "execution_count": 6,
   "metadata": {},
   "outputs": [],
   "source": [
    "# Batch and shuffle the data\n",
    "#dataset1 = tf.data.Dataset.from_tensor_slices(train_images[train_labels<=4]).shuffle(BUFFER_SIZE).batch(BATCH_SIZE)\n",
    "#dataset2 = tf.data.Dataset.from_tensor_slices(train_images[train_labels>4]).shuffle(BUFFER_SIZE).batch(BATCH_SIZE)"
   ]
  },
  {
   "cell_type": "code",
   "execution_count": 7,
   "metadata": {},
   "outputs": [],
   "source": [
    "def make_generator_model():\n",
    "    model = tf.keras.Sequential()\n",
    "    model.add(layers.Dense(7*7*256, use_bias=False, input_shape=(100,)))\n",
    "    model.add(layers.BatchNormalization())\n",
    "    model.add(layers.LeakyReLU())\n",
    "\n",
    "    model.add(layers.Reshape((7, 7, 256)))\n",
    "    assert model.output_shape == (None, 7, 7, 256) # Note: None is the batch size\n",
    "\n",
    "    model.add(layers.Conv2DTranspose(128, (5, 5), strides=(1, 1), padding='same', use_bias=False))\n",
    "    assert model.output_shape == (None, 7, 7, 128)\n",
    "    model.add(layers.BatchNormalization())\n",
    "    model.add(layers.LeakyReLU())\n",
    "\n",
    "    model.add(layers.Conv2DTranspose(64, (5, 5), strides=(2, 2), padding='same', use_bias=False))\n",
    "    assert model.output_shape == (None, 14, 14, 64)\n",
    "    model.add(layers.BatchNormalization())\n",
    "    model.add(layers.LeakyReLU())\n",
    "\n",
    "    model.add(layers.Conv2DTranspose(1, (5, 5), strides=(2, 2), padding='same', use_bias=False, activation='tanh'))\n",
    "    assert model.output_shape == (None, 28, 28, 1)\n",
    "\n",
    "    return model"
   ]
  },
  {
   "cell_type": "code",
   "execution_count": 8,
   "metadata": {},
   "outputs": [
    {
     "data": {
      "image/png": "[encoded data removed]",
      "text/plain": [
       "<Figure size 432x288 with 1 Axes>"
      ]
     },
     "metadata": {
      "needs_background": "light"
     },
     "output_type": "display_data"
    }
   ],
   "source": [
    "generator = make_generator_model()\n",
    "\n",
    "noise = tf.random.normal([1, 100])\n",
    "generated_image = generator(noise, training=False)\n",
    "\n",
    "plt.imshow(generated_image[0, :, :, 0], cmap='gray')\n",
    "plt.show()"
   ]
  },
  {
   "cell_type": "code",
   "execution_count": 9,
   "metadata": {},
   "outputs": [],
   "source": [
    "def make_discriminator_model():\n",
    "    model = tf.keras.Sequential()\n",
    "    model.add(layers.Conv2D(64, (5, 5), strides=(2, 2), padding='same',\n",
    "                                     input_shape=[28, 28, 1]))\n",
    "    model.add(layers.LeakyReLU())\n",
    "    model.add(layers.Dropout(0.3))\n",
    "\n",
    "    model.add(layers.Conv2D(128, (5, 5), strides=(2, 2), padding='same'))\n",
    "    model.add(layers.LeakyReLU())\n",
    "    model.add(layers.Dropout(0.3))\n",
    "\n",
    "    model.add(layers.Flatten())\n",
    "    model.add(layers.Dense(1))\n",
    "\n",
    "    return model"
   ]
  },
  {
   "cell_type": "code",
   "execution_count": 10,
   "metadata": {},
   "outputs": [],
   "source": [
    "discriminator = make_discriminator_model()\n",
    "\n",
    "n_discriminators=2\n",
    "\n",
    "discriminators = [make_discriminator_model() for _ in range(n_discriminators)]"
   ]
  },
  {
   "cell_type": "code",
   "execution_count": 11,
   "metadata": {},
   "outputs": [],
   "source": [
    "# This method returns a helper function to compute cross entropy loss\n",
    "cross_entropy = tf.keras.losses.BinaryCrossentropy(from_logits=True)"
   ]
  },
  {
   "cell_type": "code",
   "execution_count": 12,
   "metadata": {},
   "outputs": [],
   "source": [
    "def discriminator_loss(real_output, fake_output):\n",
    "    real_loss = cross_entropy(tf.ones_like(real_output), real_output)\n",
    "    fake_loss = cross_entropy(tf.zeros_like(fake_output), fake_output)\n",
    "    total_loss = real_loss + fake_loss\n",
    "    return total_loss"
   ]
  },
  {
   "cell_type": "code",
   "execution_count": 13,
   "metadata": {},
   "outputs": [],
   "source": [
    "def generator_loss(fake_output):\n",
    "    return cross_entropy(tf.ones_like(fake_output), fake_output)"
   ]
  },
  {
   "cell_type": "code",
   "execution_count": 14,
   "metadata": {},
   "outputs": [],
   "source": [
    "generator_optimizer = tf.keras.optimizers.Adam(1e-4)\n",
    "discriminator_optimizers = [tf.keras.optimizers.Adam(1e-4) for _ in range(n_discriminators)]"
   ]
  },
  {
   "cell_type": "code",
   "execution_count": 15,
   "metadata": {},
   "outputs": [],
   "source": [
    "EPOCHS = 50\n",
    "noise_dim = 100\n",
    "num_examples_to_generate = 16\n",
    "\n",
    "# We will reuse this seed overtime (so it's easier)\n",
    "# to visualize progress in the animated GIF)\n",
    "seed = tf.random.normal([num_examples_to_generate, noise_dim])"
   ]
  },
  {
   "cell_type": "code",
   "execution_count": 16,
   "metadata": {},
   "outputs": [],
   "source": [
    "# Notice the use of `tf.function`\n",
    "# This annotation causes the function to be \"compiled\".\n",
    "@tf.function\n",
    "def train_step(images):\n",
    "    noise = tf.random.normal([BATCH_SIZE, noise_dim])\n",
    "\n",
    "    with tf.GradientTape() as gen_tape, tf.GradientTape() as disc_tape1, tf.GradientTape() as disc_tape2:\n",
    "        \n",
    "        disc_tapes = [disc_tape1,disc_tape2]\n",
    "        \n",
    "        generated_images = generator(noise, training=True)\n",
    "        \n",
    "        real_outputs = [discriminator(images[i], training=True) for i, discriminator in enumerate(discriminators)]\n",
    "        fake_outputs = [discriminator(generated_images, training=True) for discriminator in discriminators]\n",
    "        \n",
    "        gen_loss = 0\n",
    "        for fake_output in fake_outputs:\n",
    "            gen_loss+= generator_loss(fake_output)\n",
    "            \n",
    "        gradients_of_generator = gen_tape.gradient(gen_loss, generator.trainable_variables)\n",
    "        generator_optimizer.apply_gradients(zip(gradients_of_generator, generator.trainable_variables))\n",
    "        \n",
    "        for real_output,fake_output,disc_tape,disc_optimizer,discriminator in zip(real_outputs,fake_outputs,disc_tapes,discriminator_optimizers,discriminators):\n",
    "            disc_loss = discriminator_loss(real_output, fake_output)\n",
    "            gradients_of_discriminator = disc_tape.gradient(disc_loss, discriminator.trainable_variables)\n",
    "            disc_optimizer.apply_gradients(zip(gradients_of_discriminator, discriminator.trainable_variables))\n",
    "        \n",
    "    return real_outputs"
   ]
  },
  {
   "cell_type": "code",
   "execution_count": 17,
   "metadata": {},
   "outputs": [],
   "source": [
    "def train(epochs):\n",
    "    for epoch in range(epochs):\n",
    "        start = time.time()\n",
    "        \n",
    "        #print('stuck on assign')\n",
    "        indices, images = dataholder.assign()\n",
    "        #print('not really')\n",
    "        min_len = np.min([len(indices[0]), len(indices[1])])\n",
    "        #print(min_len, min_len/BATCH_SIZE)\n",
    "        dataset1 = tf.data.Dataset.from_tensor_slices((images[0],indices[0])).shuffle(BUFFER_SIZE).batch(BATCH_SIZE)\n",
    "        dataset2 = tf.data.Dataset.from_tensor_slices((images[1],indices[1])).shuffle(BUFFER_SIZE).batch(BATCH_SIZE)\n",
    "        \n",
    "        outcomes = [[] for _ in range(n_discriminators)]\n",
    "        iiii=0\n",
    "        for batch1,batch2 in zip(dataset1,dataset2):\n",
    "            #print(iiii)\n",
    "            iiii+=1\n",
    "            images = (batch1[0],batch2[0])\n",
    "            indices = (batch1[1],batch2[1])\n",
    "            #print('stuck on step')\n",
    "            step_outcomes = train_step(images)\n",
    "            #print('not ')\n",
    "            d_idx=0\n",
    "            for ind,outcome in zip(indices,step_outcomes):\n",
    "                outcome = (outcome < 0).numpy().astype(int).reshape(-1) ## Remember the invese alocation stuff due to a,b order in beta distribution\n",
    "                dataholder.update(sample_index = ind,\n",
    "                                  cluster_index = d_idx * np.ones_like(ind,dtype=int),\n",
    "                                  outcome=outcome)\n",
    "            \n",
    "                d_idx+=1\n",
    "            \n",
    "\n",
    "        # Produce images for the GIF as we go\n",
    "        #display.clear_output(wait=True)\n",
    "\n",
    "        # Save the model every 15 epochs\n",
    "        if (epoch + 1) % 15 == 0:\n",
    "            #checkpoint.save(file_prefix = checkpoint_prefix)\n",
    "            pass\n",
    "        \n",
    "        \n",
    "\n",
    "        print ('Time for epoch {} is {} sec'.format(epoch + 1, time.time()-start))\n"
   ]
  },
  {
   "cell_type": "code",
   "execution_count": 19,
   "metadata": {},
   "outputs": [],
   "source": [
    "dataholder = DataHolder(n_clusters = 2, X=train_images[train_labels <=1])\n",
    "dataset = tf.data.Dataset.from_tensor_slices((train_images[train_labels<=1],train_labels[train_labels<=1])).shuffle(BUFFER_SIZE).batch(BATCH_SIZE)"
   ]
  },
  {
   "cell_type": "markdown",
   "metadata": {},
   "source": [
    "# Training"
   ]
  },
  {
   "cell_type": "code",
   "execution_count": 20,
   "metadata": {},
   "outputs": [
    {
     "name": "stdout",
     "output_type": "stream",
     "text": [
      "Time for epoch 1 is 5.035049915313721 sec\n",
      "Time for epoch 2 is 3.019049644470215 sec\n",
      "Time for epoch 3 is 3.0498740673065186 sec\n",
      "Time for epoch 4 is 3.0590884685516357 sec\n",
      "Time for epoch 5 is 2.103208303451538 sec\n",
      "Purity 0.636\n",
      "Time for epoch 1 is 3.1095962524414062 sec\n",
      "Time for epoch 2 is 3.157282590866089 sec\n",
      "Time for epoch 3 is 2.960153818130493 sec\n",
      "Time for epoch 4 is 2.930058002471924 sec\n",
      "Time for epoch 5 is 2.9637510776519775 sec\n",
      "Purity 0.687\n",
      "Time for epoch 1 is 3.120543956756592 sec\n",
      "Time for epoch 2 is 3.0372989177703857 sec\n",
      "Time for epoch 3 is 3.0129992961883545 sec\n",
      "Time for epoch 4 is 3.021333932876587 sec\n",
      "Time for epoch 5 is 3.196162700653076 sec\n",
      "Purity 0.831\n",
      "Time for epoch 1 is 2.9458229541778564 sec\n",
      "Time for epoch 2 is 3.0032927989959717 sec\n",
      "Time for epoch 3 is 2.981215238571167 sec\n",
      "Time for epoch 4 is 2.943000316619873 sec\n",
      "Time for epoch 5 is 3.2892229557037354 sec\n",
      "Purity 0.904\n",
      "Time for epoch 1 is 2.91823410987854 sec\n",
      "Time for epoch 2 is 2.9010562896728516 sec\n",
      "Time for epoch 3 is 2.925004005432129 sec\n",
      "Time for epoch 4 is 2.879722833633423 sec\n",
      "Time for epoch 5 is 2.9095911979675293 sec\n",
      "Purity 0.883\n",
      "Time for epoch 1 is 3.2636561393737793 sec\n",
      "Time for epoch 2 is 2.90629506111145 sec\n",
      "Time for epoch 3 is 2.8743011951446533 sec\n",
      "Time for epoch 4 is 1.9950311183929443 sec\n",
      "Time for epoch 5 is 2.8417630195617676 sec\n",
      "Purity 0.923\n",
      "Time for epoch 1 is 2.882303476333618 sec\n",
      "Time for epoch 2 is 2.831261396408081 sec\n",
      "Time for epoch 3 is 1.9950737953186035 sec\n",
      "Time for epoch 4 is 1.9873077869415283 sec\n",
      "Time for epoch 5 is 2.839031457901001 sec\n",
      "Purity 0.962\n",
      "Time for epoch 1 is 2.8832974433898926 sec\n",
      "Time for epoch 2 is 3.359424114227295 sec\n",
      "Time for epoch 3 is 1.9740328788757324 sec\n",
      "Time for epoch 4 is 2.8715574741363525 sec\n",
      "Time for epoch 5 is 2.01619815826416 sec\n",
      "Purity 0.965\n",
      "Time for epoch 1 is 2.924027681350708 sec\n",
      "Time for epoch 2 is 2.867889404296875 sec\n",
      "Time for epoch 3 is 1.993030071258545 sec\n",
      "Time for epoch 4 is 2.0097482204437256 sec\n",
      "Time for epoch 5 is 2.9017081260681152 sec\n",
      "Purity 0.939\n",
      "Time for epoch 1 is 2.8657572269439697 sec\n",
      "Time for epoch 2 is 2.009706497192383 sec\n",
      "Time for epoch 3 is 2.900786876678467 sec\n",
      "Time for epoch 4 is 2.002690076828003 sec\n",
      "Time for epoch 5 is 2.8649702072143555 sec\n",
      "Purity 0.938\n"
     ]
    }
   ],
   "source": [
    "for epep in range(10):\n",
    "    \n",
    "    #Train 5 epochs\n",
    "    train(5)\n",
    "    \n",
    "    \n",
    "    \n",
    "    #Evaluate ( Yes this looks like shit)\n",
    "    res = []\n",
    "    labels = []\n",
    "    for imgs,lbls in dataset:\n",
    "        out0 = discriminators[0](imgs,training = False)\n",
    "        out1 = discriminators[1](imgs,training = False)\n",
    "\n",
    "\n",
    "\n",
    "        am = np.argmax(np.concatenate((out0,out1),axis = 1),axis=1)\n",
    "        res.extend(lbls.numpy()==am)\n",
    "\n",
    "\n",
    "    res = np.asarray(res)\n",
    "    c = np.sum(res)/len(res)\n",
    "\n",
    "    print('Purity {:.3f}'.format(np.max([1-c,c])))"
   ]
  },
  {
   "cell_type": "code",
   "execution_count": 33,
   "metadata": {},
   "outputs": [
    {
     "data": {
      "image/png": "[encoded data removed]",
      "text/plain": [
       "<Figure size 432x288 with 1 Axes>"
      ]
     },
     "metadata": {
      "needs_background": "light"
     },
     "output_type": "display_data"
    }
   ],
   "source": [
    "noise = tf.random.normal([3, 100])\n",
    "generated_image = generator(noise, training=False)\n",
    "\n",
    "plt.imshow(generated_image[0, :, :, 0], cmap='gray')\n",
    "plt.show()"
   ]
  },
  {
   "cell_type": "code",
   "execution_count": null,
   "metadata": {},
   "outputs": [],
   "source": [
    "#very nize zero"
   ]
  },
  {
   "cell_type": "code",
   "execution_count": null,
   "metadata": {},
   "outputs": [],
   "source": [
    "from collections import Counter"
   ]
  },
  {
   "cell_type": "code",
   "execution_count": null,
   "metadata": {},
   "outputs": [],
   "source": [
    "from sklearn.cluster import KMeans\n",
    "\n",
    "km = KMeans(2)\n",
    "\n",
    "\n",
    "X = train_images[train_labels <=1]\n",
    "X = X.reshape((X.shape[0],np.prod(X.shape[1:])))\n",
    "y = train_labels[train_labels <=1]\n",
    "km.fit(X)\n",
    "p = km.predict(X)\n",
    "\n",
    "c = np.sum(y==p)/len(y)\n",
    "print('purity: {:.3f}'.format(np.max([c,1-c])))"
   ]
  },
  {
   "cell_type": "code",
   "execution_count": null,
   "metadata": {},
   "outputs": [],
   "source": [
    "Counter(y)"
   ]
  },
  {
   "cell_type": "code",
   "execution_count": null,
   "metadata": {},
   "outputs": [],
   "source": []
  }
 ],
 "metadata": {
  "kernelspec": {
   "display_name": "Python (tf2)",
   "language": "python",
   "name": "tf2"
  },
  "language_info": {
   "codemirror_mode": {
    "name": "ipython",
    "version": 3
   },
   "file_extension": ".py",
   "mimetype": "text/x-python",
   "name": "python",
   "nbconvert_exporter": "python",
   "pygments_lexer": "ipython3",
   "version": "3.7.7"
  }
 },
 "nbformat": 4,
 "nbformat_minor": 4
}
