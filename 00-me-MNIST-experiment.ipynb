{
 "cells": [
  {
   "cell_type": "code",
   "execution_count": 1,
   "metadata": {},
   "outputs": [],
   "source": [
    "import numpy as np\n",
    "from scipy.stats import beta"
   ]
  },
  {
   "cell_type": "markdown",
   "metadata": {},
   "source": [
    "### The concept\n",
    "TBD\n",
    "\n",
    "Consider a dataset X containing samples x, a generator G and k number of discriminators D_i\n",
    "\n",
    "\n",
    "Let's assign k beta distributios to each sample to model the probability of succesful classification (true positive, false negative)"
   ]
  },
  {
   "cell_type": "code",
   "execution_count": 51,
   "metadata": {},
   "outputs": [],
   "source": [
    "class DataHolder(object):\n",
    "    \n",
    "    def __init__(self,n_clusters,X):\n",
    "        #sucess index = 0\n",
    "        self.X = X\n",
    "        self.n_clusters = n_clusters\n",
    "        self.stats = np.ones((len(X),n_clusters,2),dtype = int)\n",
    "    \n",
    "    def update(self,sample_index,cluster_index,outcome):\n",
    "        self.stats[sample_index,cluster_index,outcome]+=1\n",
    "    \n",
    "    def assign(self):\n",
    "        assignment=[]\n",
    "        for sample in self.stats:\n",
    "            assignment.append(np.argmax([beta.rvs(*component) for component in sample]))\n",
    "        \n",
    "        assignment = np.asarray(assignment)\n",
    "        assignment_indices = [np.where(assignment == k)[0] for k in range(self.n_clusters)]\n",
    "        assignment_data  = [self.X[indices] for indices in assignment_indices]\n",
    "        return assignment_indices,assignment_data\n",
    "        \n",
    "    "
   ]
  },
  {
   "cell_type": "code",
   "execution_count": 66,
   "metadata": {},
   "outputs": [],
   "source": [
    "x=np.ones((100,5))*np.arange(0,100).reshape(-1,1)\n",
    "dh = DataHolder(n_clusters = 3, X = x)"
   ]
  },
  {
   "cell_type": "code",
   "execution_count": 80,
   "metadata": {},
   "outputs": [],
   "source": [
    "\n",
    "for _ in range(200):\n",
    "    indices, data = dh.assign()\n",
    "    dh.update(indices[0], 0*np.ones_like(indices[0],dtype = int), np.zeros_like(indices[0],dtype = int) )\n"
   ]
  },
  {
   "cell_type": "code",
   "execution_count": 82,
   "metadata": {},
   "outputs": [
    {
     "data": {
      "text/plain": [
       "[array([[ 0.,  0.,  0.,  0.,  0.],\n",
       "        [ 1.,  1.,  1.,  1.,  1.],\n",
       "        [ 2.,  2.,  2.,  2.,  2.],\n",
       "        [ 3.,  3.,  3.,  3.,  3.],\n",
       "        [ 4.,  4.,  4.,  4.,  4.],\n",
       "        [ 5.,  5.,  5.,  5.,  5.],\n",
       "        [ 6.,  6.,  6.,  6.,  6.],\n",
       "        [ 7.,  7.,  7.,  7.,  7.],\n",
       "        [ 8.,  8.,  8.,  8.,  8.],\n",
       "        [ 9.,  9.,  9.,  9.,  9.],\n",
       "        [10., 10., 10., 10., 10.],\n",
       "        [11., 11., 11., 11., 11.],\n",
       "        [12., 12., 12., 12., 12.],\n",
       "        [13., 13., 13., 13., 13.],\n",
       "        [14., 14., 14., 14., 14.],\n",
       "        [15., 15., 15., 15., 15.],\n",
       "        [16., 16., 16., 16., 16.],\n",
       "        [17., 17., 17., 17., 17.],\n",
       "        [18., 18., 18., 18., 18.],\n",
       "        [19., 19., 19., 19., 19.],\n",
       "        [20., 20., 20., 20., 20.],\n",
       "        [21., 21., 21., 21., 21.],\n",
       "        [22., 22., 22., 22., 22.],\n",
       "        [23., 23., 23., 23., 23.],\n",
       "        [24., 24., 24., 24., 24.],\n",
       "        [25., 25., 25., 25., 25.],\n",
       "        [26., 26., 26., 26., 26.],\n",
       "        [27., 27., 27., 27., 27.],\n",
       "        [28., 28., 28., 28., 28.],\n",
       "        [29., 29., 29., 29., 29.],\n",
       "        [30., 30., 30., 30., 30.],\n",
       "        [31., 31., 31., 31., 31.],\n",
       "        [32., 32., 32., 32., 32.],\n",
       "        [33., 33., 33., 33., 33.],\n",
       "        [34., 34., 34., 34., 34.],\n",
       "        [35., 35., 35., 35., 35.],\n",
       "        [36., 36., 36., 36., 36.],\n",
       "        [37., 37., 37., 37., 37.],\n",
       "        [38., 38., 38., 38., 38.],\n",
       "        [39., 39., 39., 39., 39.],\n",
       "        [40., 40., 40., 40., 40.],\n",
       "        [41., 41., 41., 41., 41.],\n",
       "        [42., 42., 42., 42., 42.],\n",
       "        [43., 43., 43., 43., 43.],\n",
       "        [44., 44., 44., 44., 44.],\n",
       "        [45., 45., 45., 45., 45.],\n",
       "        [46., 46., 46., 46., 46.],\n",
       "        [47., 47., 47., 47., 47.],\n",
       "        [48., 48., 48., 48., 48.],\n",
       "        [49., 49., 49., 49., 49.],\n",
       "        [50., 50., 50., 50., 50.],\n",
       "        [51., 51., 51., 51., 51.],\n",
       "        [52., 52., 52., 52., 52.],\n",
       "        [53., 53., 53., 53., 53.],\n",
       "        [54., 54., 54., 54., 54.],\n",
       "        [55., 55., 55., 55., 55.],\n",
       "        [56., 56., 56., 56., 56.],\n",
       "        [57., 57., 57., 57., 57.],\n",
       "        [58., 58., 58., 58., 58.],\n",
       "        [59., 59., 59., 59., 59.],\n",
       "        [60., 60., 60., 60., 60.],\n",
       "        [61., 61., 61., 61., 61.],\n",
       "        [62., 62., 62., 62., 62.],\n",
       "        [63., 63., 63., 63., 63.],\n",
       "        [64., 64., 64., 64., 64.],\n",
       "        [65., 65., 65., 65., 65.],\n",
       "        [66., 66., 66., 66., 66.],\n",
       "        [67., 67., 67., 67., 67.],\n",
       "        [68., 68., 68., 68., 68.],\n",
       "        [69., 69., 69., 69., 69.],\n",
       "        [70., 70., 70., 70., 70.],\n",
       "        [71., 71., 71., 71., 71.],\n",
       "        [72., 72., 72., 72., 72.],\n",
       "        [73., 73., 73., 73., 73.],\n",
       "        [74., 74., 74., 74., 74.],\n",
       "        [75., 75., 75., 75., 75.],\n",
       "        [76., 76., 76., 76., 76.],\n",
       "        [77., 77., 77., 77., 77.],\n",
       "        [78., 78., 78., 78., 78.],\n",
       "        [79., 79., 79., 79., 79.],\n",
       "        [80., 80., 80., 80., 80.],\n",
       "        [81., 81., 81., 81., 81.],\n",
       "        [82., 82., 82., 82., 82.],\n",
       "        [83., 83., 83., 83., 83.],\n",
       "        [84., 84., 84., 84., 84.],\n",
       "        [85., 85., 85., 85., 85.],\n",
       "        [86., 86., 86., 86., 86.],\n",
       "        [87., 87., 87., 87., 87.],\n",
       "        [88., 88., 88., 88., 88.],\n",
       "        [89., 89., 89., 89., 89.],\n",
       "        [90., 90., 90., 90., 90.],\n",
       "        [91., 91., 91., 91., 91.],\n",
       "        [92., 92., 92., 92., 92.],\n",
       "        [93., 93., 93., 93., 93.],\n",
       "        [94., 94., 94., 94., 94.],\n",
       "        [95., 95., 95., 95., 95.],\n",
       "        [96., 96., 96., 96., 96.],\n",
       "        [97., 97., 97., 97., 97.],\n",
       "        [98., 98., 98., 98., 98.],\n",
       "        [99., 99., 99., 99., 99.]]),\n",
       " array([], shape=(0, 5), dtype=float64),\n",
       " array([], shape=(0, 5), dtype=float64)]"
      ]
     },
     "execution_count": 82,
     "metadata": {},
     "output_type": "execute_result"
    }
   ],
   "source": []
  },
  {
   "cell_type": "code",
   "execution_count": 76,
   "metadata": {},
   "outputs": [
    {
     "data": {
      "text/plain": [
       "array([ 4,  6,  7, 13, 15, 16, 19, 20, 21, 26, 34, 35, 36, 41, 44, 54, 55,\n",
       "       58, 59, 64, 66, 67, 69, 70, 71, 75, 84, 85, 86, 89, 90, 91, 95, 97,\n",
       "       99], dtype=int64)"
      ]
     },
     "execution_count": 76,
     "metadata": {},
     "output_type": "execute_result"
    }
   ],
   "source": [
    "indices[0]"
   ]
  },
  {
   "cell_type": "code",
   "execution_count": 98,
   "metadata": {},
   "outputs": [],
   "source": [
    "dh.update(19,0,1)"
   ]
  },
  {
   "cell_type": "code",
   "execution_count": 85,
   "metadata": {},
   "outputs": [
    {
     "data": {
      "text/plain": [
       "0.49902892917203157"
      ]
     },
     "execution_count": 85,
     "metadata": {},
     "output_type": "execute_result"
    }
   ],
   "source": [
    "beta.rvs([5000,5000])"
   ]
  },
  {
   "cell_type": "code",
   "execution_count": 104,
   "metadata": {},
   "outputs": [
    {
     "data": {
      "text/plain": [
       "array([1, 1])"
      ]
     },
     "execution_count": 104,
     "metadata": {},
     "output_type": "execute_result"
    }
   ],
   "source": [
    "dh.stats[0,2]"
   ]
  },
  {
   "cell_type": "code",
   "execution_count": 108,
   "metadata": {},
   "outputs": [],
   "source": [
    "test = np.ones((10,3,2),dtype = int)"
   ]
  },
  {
   "cell_type": "code",
   "execution_count": 125,
   "metadata": {},
   "outputs": [
    {
     "data": {
      "text/plain": [
       "array([1, 2, 0, 1, 1, 0, 1, 2, 1, 1])"
      ]
     },
     "execution_count": 125,
     "metadata": {},
     "output_type": "execute_result"
    }
   ],
   "source": [
    "np.random.randint(0,3,10)"
   ]
  },
  {
   "cell_type": "code",
   "execution_count": 127,
   "metadata": {},
   "outputs": [
    {
     "data": {
      "text/plain": [
       "array([0, 1, 0, 0, 0, 0, 1, 1, 1, 0])"
      ]
     },
     "execution_count": 127,
     "metadata": {},
     "output_type": "execute_result"
    }
   ],
   "source": []
  },
  {
   "cell_type": "code",
   "execution_count": 128,
   "metadata": {},
   "outputs": [],
   "source": [
    "test[np.arange(0,10),np.random.randint(0,3,10),np.random.randint(0,2,10)] += 1"
   ]
  },
  {
   "cell_type": "code",
   "execution_count": 129,
   "metadata": {},
   "outputs": [
    {
     "data": {
      "text/plain": [
       "array([[[1, 1],\n",
       "        [1, 1],\n",
       "        [2, 1]],\n",
       "\n",
       "       [[1, 1],\n",
       "        [1, 1],\n",
       "        [2, 1]],\n",
       "\n",
       "       [[1, 1],\n",
       "        [2, 1],\n",
       "        [1, 1]],\n",
       "\n",
       "       [[2, 1],\n",
       "        [1, 1],\n",
       "        [1, 1]],\n",
       "\n",
       "       [[1, 1],\n",
       "        [1, 1],\n",
       "        [2, 1]],\n",
       "\n",
       "       [[1, 2],\n",
       "        [1, 1],\n",
       "        [1, 1]],\n",
       "\n",
       "       [[1, 1],\n",
       "        [2, 1],\n",
       "        [1, 1]],\n",
       "\n",
       "       [[2, 1],\n",
       "        [1, 1],\n",
       "        [1, 1]],\n",
       "\n",
       "       [[2, 1],\n",
       "        [1, 1],\n",
       "        [1, 1]],\n",
       "\n",
       "       [[1, 1],\n",
       "        [1, 2],\n",
       "        [1, 1]]])"
      ]
     },
     "execution_count": 129,
     "metadata": {},
     "output_type": "execute_result"
    }
   ],
   "source": [
    "test"
   ]
  },
  {
   "cell_type": "code",
   "execution_count": null,
   "metadata": {},
   "outputs": [],
   "source": []
  }
 ],
 "metadata": {
  "kernelspec": {
   "display_name": "Python (tf2)",
   "language": "python",
   "name": "tf2"
  },
  "language_info": {
   "codemirror_mode": {
    "name": "ipython",
    "version": 3
   },
   "file_extension": ".py",
   "mimetype": "text/x-python",
   "name": "python",
   "nbconvert_exporter": "python",
   "pygments_lexer": "ipython3",
   "version": "3.7.7"
  }
 },
 "nbformat": 4,
 "nbformat_minor": 4
}
